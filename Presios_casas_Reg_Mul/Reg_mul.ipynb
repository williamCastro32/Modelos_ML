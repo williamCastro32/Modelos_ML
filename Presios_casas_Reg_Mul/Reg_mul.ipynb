{
 "cells": [
  {
   "cell_type": "markdown",
   "metadata": {},
   "source": [
    "# Regresión Lineal Multiple"
   ]
  },
  {
   "cell_type": "code",
   "execution_count": 38,
   "metadata": {},
   "outputs": [],
   "source": [
    "# Se importan las librerias a utilizar\n",
    "import pandas as pd\n",
    "import matplotlib.pyplot as plt\n",
    "import seaborn as sns\n",
    "from sklearn.model_selection import train_test_split\n",
    "from sklearn import metrics\n",
    "from sklearn.linear_model import LinearRegression\n",
    "from sklearn.model_selection import GridSearchCV\n"
   ]
  },
  {
   "cell_type": "markdown",
   "metadata": {},
   "source": [
    "## Descripción del Dataset\n",
    "\n",
    "### `Real_estate.csv`:\n",
    "\n",
    "El conjunto de datos proporciona información sobre precios de viviendas y características asociadas. Los datos fueron descargados de [Kaggle](https://www.kaggle.com/datasets/quantbruce/real-estate-price-prediction?resource=download) y se utilizan para predecir el precio de las casas.\n",
    "\n",
    "El dataset contiene las siguientes columnas:\n",
    "\n",
    "- `transaction_date`: Fecha de la transacción (por ejemplo, 2012.917)\n",
    "- `house_age`: Edad de la casa en años (por ejemplo, 32.0)\n",
    "- `distance_to_nearest_MRT_station`: Distancia a la estación de MRT más cercana en metros (por ejemplo, 84.87882)\n",
    "- `number_of_convenience_stores`: Número de tiendas de conveniencia en el área (por ejemplo, 10)\n",
    "- `latitude`: Latitud de la ubicación (por ejemplo, 24.98298)\n",
    "- `longitude`: Longitud de la ubicación (por ejemplo, 121.54024)\n",
    "- `house_price`: Precio de la casa por unidad de área (por ejemplo, 37.9)\n",
    "\n",
    "\n"
   ]
  },
  {
   "cell_type": "code",
   "execution_count": 39,
   "metadata": {},
   "outputs": [
    {
     "data": {
      "text/html": [
       "<div>\n",
       "<style scoped>\n",
       "    .dataframe tbody tr th:only-of-type {\n",
       "        vertical-align: middle;\n",
       "    }\n",
       "\n",
       "    .dataframe tbody tr th {\n",
       "        vertical-align: top;\n",
       "    }\n",
       "\n",
       "    .dataframe thead th {\n",
       "        text-align: right;\n",
       "    }\n",
       "</style>\n",
       "<table border=\"1\" class=\"dataframe\">\n",
       "  <thead>\n",
       "    <tr style=\"text-align: right;\">\n",
       "      <th></th>\n",
       "      <th>No</th>\n",
       "      <th>X1 transaction date</th>\n",
       "      <th>X2 house age</th>\n",
       "      <th>X3 distance to the nearest MRT station</th>\n",
       "      <th>X4 number of convenience stores</th>\n",
       "      <th>X5 latitude</th>\n",
       "      <th>X6 longitude</th>\n",
       "      <th>Y house price of unit area</th>\n",
       "    </tr>\n",
       "  </thead>\n",
       "  <tbody>\n",
       "    <tr>\n",
       "      <th>0</th>\n",
       "      <td>1</td>\n",
       "      <td>2012.917</td>\n",
       "      <td>32.0</td>\n",
       "      <td>84.87882</td>\n",
       "      <td>10</td>\n",
       "      <td>24.98298</td>\n",
       "      <td>121.54024</td>\n",
       "      <td>37.9</td>\n",
       "    </tr>\n",
       "    <tr>\n",
       "      <th>1</th>\n",
       "      <td>2</td>\n",
       "      <td>2012.917</td>\n",
       "      <td>19.5</td>\n",
       "      <td>306.59470</td>\n",
       "      <td>9</td>\n",
       "      <td>24.98034</td>\n",
       "      <td>121.53951</td>\n",
       "      <td>42.2</td>\n",
       "    </tr>\n",
       "    <tr>\n",
       "      <th>2</th>\n",
       "      <td>3</td>\n",
       "      <td>2013.583</td>\n",
       "      <td>13.3</td>\n",
       "      <td>561.98450</td>\n",
       "      <td>5</td>\n",
       "      <td>24.98746</td>\n",
       "      <td>121.54391</td>\n",
       "      <td>47.3</td>\n",
       "    </tr>\n",
       "    <tr>\n",
       "      <th>3</th>\n",
       "      <td>4</td>\n",
       "      <td>2013.500</td>\n",
       "      <td>13.3</td>\n",
       "      <td>561.98450</td>\n",
       "      <td>5</td>\n",
       "      <td>24.98746</td>\n",
       "      <td>121.54391</td>\n",
       "      <td>54.8</td>\n",
       "    </tr>\n",
       "    <tr>\n",
       "      <th>4</th>\n",
       "      <td>5</td>\n",
       "      <td>2012.833</td>\n",
       "      <td>5.0</td>\n",
       "      <td>390.56840</td>\n",
       "      <td>5</td>\n",
       "      <td>24.97937</td>\n",
       "      <td>121.54245</td>\n",
       "      <td>43.1</td>\n",
       "    </tr>\n",
       "  </tbody>\n",
       "</table>\n",
       "</div>"
      ],
      "text/plain": [
       "   No  X1 transaction date  X2 house age  \\\n",
       "0   1             2012.917          32.0   \n",
       "1   2             2012.917          19.5   \n",
       "2   3             2013.583          13.3   \n",
       "3   4             2013.500          13.3   \n",
       "4   5             2012.833           5.0   \n",
       "\n",
       "   X3 distance to the nearest MRT station  X4 number of convenience stores  \\\n",
       "0                                84.87882                               10   \n",
       "1                               306.59470                                9   \n",
       "2                               561.98450                                5   \n",
       "3                               561.98450                                5   \n",
       "4                               390.56840                                5   \n",
       "\n",
       "   X5 latitude  X6 longitude  Y house price of unit area  \n",
       "0     24.98298     121.54024                        37.9  \n",
       "1     24.98034     121.53951                        42.2  \n",
       "2     24.98746     121.54391                        47.3  \n",
       "3     24.98746     121.54391                        54.8  \n",
       "4     24.97937     121.54245                        43.1  "
      ]
     },
     "execution_count": 39,
     "metadata": {},
     "output_type": "execute_result"
    }
   ],
   "source": [
    "# Se importa el archivo\n",
    "df = pd.read_csv('Real_estate.csv')\n",
    "# visualizamos el df\n",
    "df.head()"
   ]
  },
  {
   "cell_type": "code",
   "execution_count": 40,
   "metadata": {},
   "outputs": [],
   "source": [
    "# Eliminar la columna idex\n",
    "df.drop(columns='No', axis=1, inplace=True)\n",
    "# Renombrar las columnas\n",
    "df.columns = ['transaction_date', 'house_age', 'distance_to_nearest_MRT_station',\n",
    "              'number_of_convenience_stores', 'latitude', 'longitude', 'house_price']"
   ]
  },
  {
   "cell_type": "markdown",
   "metadata": {},
   "source": [
    " Para entender mejor los datos realizamos una EDA"
   ]
  },
  {
   "cell_type": "code",
   "execution_count": 41,
   "metadata": {},
   "outputs": [
    {
     "data": {
      "text/html": [
       "<div>\n",
       "<style scoped>\n",
       "    .dataframe tbody tr th:only-of-type {\n",
       "        vertical-align: middle;\n",
       "    }\n",
       "\n",
       "    .dataframe tbody tr th {\n",
       "        vertical-align: top;\n",
       "    }\n",
       "\n",
       "    .dataframe thead th {\n",
       "        text-align: right;\n",
       "    }\n",
       "</style>\n",
       "<table border=\"1\" class=\"dataframe\">\n",
       "  <thead>\n",
       "    <tr style=\"text-align: right;\">\n",
       "      <th></th>\n",
       "      <th>transaction_date</th>\n",
       "      <th>house_age</th>\n",
       "      <th>distance_to_nearest_MRT_station</th>\n",
       "      <th>number_of_convenience_stores</th>\n",
       "      <th>latitude</th>\n",
       "      <th>longitude</th>\n",
       "      <th>house_price</th>\n",
       "    </tr>\n",
       "  </thead>\n",
       "  <tbody>\n",
       "    <tr>\n",
       "      <th>count</th>\n",
       "      <td>414.000000</td>\n",
       "      <td>414.000000</td>\n",
       "      <td>414.000000</td>\n",
       "      <td>414.000000</td>\n",
       "      <td>414.000000</td>\n",
       "      <td>414.000000</td>\n",
       "      <td>414.000000</td>\n",
       "    </tr>\n",
       "    <tr>\n",
       "      <th>mean</th>\n",
       "      <td>2013.148971</td>\n",
       "      <td>17.712560</td>\n",
       "      <td>1083.885689</td>\n",
       "      <td>4.094203</td>\n",
       "      <td>24.969030</td>\n",
       "      <td>121.533361</td>\n",
       "      <td>37.980193</td>\n",
       "    </tr>\n",
       "    <tr>\n",
       "      <th>std</th>\n",
       "      <td>0.281967</td>\n",
       "      <td>11.392485</td>\n",
       "      <td>1262.109595</td>\n",
       "      <td>2.945562</td>\n",
       "      <td>0.012410</td>\n",
       "      <td>0.015347</td>\n",
       "      <td>13.606488</td>\n",
       "    </tr>\n",
       "    <tr>\n",
       "      <th>min</th>\n",
       "      <td>2012.667000</td>\n",
       "      <td>0.000000</td>\n",
       "      <td>23.382840</td>\n",
       "      <td>0.000000</td>\n",
       "      <td>24.932070</td>\n",
       "      <td>121.473530</td>\n",
       "      <td>7.600000</td>\n",
       "    </tr>\n",
       "    <tr>\n",
       "      <th>25%</th>\n",
       "      <td>2012.917000</td>\n",
       "      <td>9.025000</td>\n",
       "      <td>289.324800</td>\n",
       "      <td>1.000000</td>\n",
       "      <td>24.963000</td>\n",
       "      <td>121.528085</td>\n",
       "      <td>27.700000</td>\n",
       "    </tr>\n",
       "    <tr>\n",
       "      <th>50%</th>\n",
       "      <td>2013.167000</td>\n",
       "      <td>16.100000</td>\n",
       "      <td>492.231300</td>\n",
       "      <td>4.000000</td>\n",
       "      <td>24.971100</td>\n",
       "      <td>121.538630</td>\n",
       "      <td>38.450000</td>\n",
       "    </tr>\n",
       "    <tr>\n",
       "      <th>75%</th>\n",
       "      <td>2013.417000</td>\n",
       "      <td>28.150000</td>\n",
       "      <td>1454.279000</td>\n",
       "      <td>6.000000</td>\n",
       "      <td>24.977455</td>\n",
       "      <td>121.543305</td>\n",
       "      <td>46.600000</td>\n",
       "    </tr>\n",
       "    <tr>\n",
       "      <th>max</th>\n",
       "      <td>2013.583000</td>\n",
       "      <td>43.800000</td>\n",
       "      <td>6488.021000</td>\n",
       "      <td>10.000000</td>\n",
       "      <td>25.014590</td>\n",
       "      <td>121.566270</td>\n",
       "      <td>117.500000</td>\n",
       "    </tr>\n",
       "  </tbody>\n",
       "</table>\n",
       "</div>"
      ],
      "text/plain": [
       "       transaction_date   house_age  distance_to_nearest_MRT_station  \\\n",
       "count        414.000000  414.000000                       414.000000   \n",
       "mean        2013.148971   17.712560                      1083.885689   \n",
       "std            0.281967   11.392485                      1262.109595   \n",
       "min         2012.667000    0.000000                        23.382840   \n",
       "25%         2012.917000    9.025000                       289.324800   \n",
       "50%         2013.167000   16.100000                       492.231300   \n",
       "75%         2013.417000   28.150000                      1454.279000   \n",
       "max         2013.583000   43.800000                      6488.021000   \n",
       "\n",
       "       number_of_convenience_stores    latitude   longitude  house_price  \n",
       "count                    414.000000  414.000000  414.000000   414.000000  \n",
       "mean                       4.094203   24.969030  121.533361    37.980193  \n",
       "std                        2.945562    0.012410    0.015347    13.606488  \n",
       "min                        0.000000   24.932070  121.473530     7.600000  \n",
       "25%                        1.000000   24.963000  121.528085    27.700000  \n",
       "50%                        4.000000   24.971100  121.538630    38.450000  \n",
       "75%                        6.000000   24.977455  121.543305    46.600000  \n",
       "max                       10.000000   25.014590  121.566270   117.500000  "
      ]
     },
     "execution_count": 41,
     "metadata": {},
     "output_type": "execute_result"
    }
   ],
   "source": [
    "# Generamos estadísticas descriptivas para todas las columnas, incluyendo datos de tipo objeto.\n",
    "df.describe(include='all')"
   ]
  },
  {
   "cell_type": "code",
   "execution_count": 42,
   "metadata": {},
   "outputs": [
    {
     "name": "stdout",
     "output_type": "stream",
     "text": [
      "<class 'pandas.core.frame.DataFrame'>\n",
      "RangeIndex: 414 entries, 0 to 413\n",
      "Data columns (total 7 columns):\n",
      " #   Column                           Non-Null Count  Dtype  \n",
      "---  ------                           --------------  -----  \n",
      " 0   transaction_date                 414 non-null    float64\n",
      " 1   house_age                        414 non-null    float64\n",
      " 2   distance_to_nearest_MRT_station  414 non-null    float64\n",
      " 3   number_of_convenience_stores     414 non-null    int64  \n",
      " 4   latitude                         414 non-null    float64\n",
      " 5   longitude                        414 non-null    float64\n",
      " 6   house_price                      414 non-null    float64\n",
      "dtypes: float64(6), int64(1)\n",
      "memory usage: 22.8 KB\n"
     ]
    }
   ],
   "source": [
    "# Verificamos el tipo de dato en las columnas\n",
    "df.info()"
   ]
  },
  {
   "cell_type": "markdown",
   "metadata": {},
   "source": [
    "Para comprender mejor las relaciones entre las variables en nuestro dataset, calculamos la matriz de correlación. Esta matriz nos permite visualizar las correlaciones entre cada par de variables, lo que nos ayuda a identificar posibles patrones y relaciones que pueden ser útiles en nuestro análisis."
   ]
  },
  {
   "cell_type": "code",
   "execution_count": 43,
   "metadata": {},
   "outputs": [
    {
     "data": {
      "text/plain": [
       "<Axes: >"
      ]
     },
     "execution_count": 43,
     "metadata": {},
     "output_type": "execute_result"
    },
    {
     "data": {
      "image/png": "[encoded data removed]",
      "text/plain": [
       "<Figure size 640x480 with 2 Axes>"
      ]
     },
     "metadata": {},
     "output_type": "display_data"
    }
   ],
   "source": [
    "# Identificamos correlaciones entre las variables \n",
    "sns.heatmap(df.corr(), annot=True,cmap='Blues')"
   ]
  },
  {
   "cell_type": "markdown",
   "metadata": {},
   "source": [
    "Aquí hay algunas observaciones que se pueden hacer sobre este resultado:\n",
    "\n",
    "- transaction_date: Tiene una correlación positiva muy baja con el precio de la casa (0.087491), lo que sugiere que la fecha de transacción no tiene una influencia significativa en el precio de la casa.\n",
    "- house_age: Tiene una correlación negativa moderada con el precio de la casa (-0.210567), lo que indica que a medida que la edad de la casa aumenta, el precio tiende a disminuir.\n",
    "- distance_to_nearest_MRT_station: Tiene una correlación negativa fuerte con el precio de la casa (-0.673613), lo que sugiere que a medida que la distancia a la estación de MRT más cercana aumenta, el precio tiende a disminuir.\n",
    "- number_of_convenience_stores: Tiene una correlación positiva moderada con el precio de la casa (0.571005), lo que indica que un mayor número de tiendas de conveniencia en el área está asociado con precios más altos de las casas.\n",
    "- latitude y longitude: Tienen correlaciones moderadas con el precio de la casa (0.546307 y 0.523287 respectivamente), lo que sugiere que la ubicación geográfica también puede influir en el precio de la casa.\n",
    "\n",
    "Este análisis de correlación sugiere que la edad de la casa, la distancia a la estación de MRT más cercana, el número de tiendas de conveniencia en el área y la ubicación geográfica son variables importantes a considerar al predecir el precio de una casa."
   ]
  },
  {
   "cell_type": "markdown",
   "metadata": {},
   "source": [
    "# Modelo de Regresión"
   ]
  },
  {
   "cell_type": "code",
   "execution_count": 44,
   "metadata": {},
   "outputs": [
    {
     "name": "stdout",
     "output_type": "stream",
     "text": [
      "Error cuadrático medio: 69.50825046591002\n",
      "Coeficiente de determinación (R2): 0.5941247122615982\n"
     ]
    }
   ],
   "source": [
    "# Seleccionamos las variables independientes (X) y la variable dependiente (y)\n",
    "X = df.drop('house_price', axis=1)\n",
    "y = df['house_price']\n",
    "\n",
    "# Dividimos los datos en conjuntos de entrenamiento y prueba\n",
    "X_train, X_test, y_train, y_test = train_test_split(X, y, train_size=0.8, random_state=10)\n",
    "\n",
    "# Instanciamos el modelo de regresión lineal\n",
    "model = LinearRegression()\n",
    "model.fit(X_train, y_train)\n",
    "\n",
    "# Realizamos predicciones\n",
    "y_pred = model.predict(X_test)\n",
    "\n",
    "# Evaluamos el modelo\n",
    "print(f\"Error cuadrático medio: {metrics.mean_squared_error(y_test, y_pred)}\")\n",
    "print(f\"Coeficiente de determinación (R2): {metrics.r2_score(y_test, y_pred)}\")\n"
   ]
  },
  {
   "cell_type": "code",
   "execution_count": 47,
   "metadata": {},
   "outputs": [
    {
     "data": {
      "text/html": [
       "<div>\n",
       "<style scoped>\n",
       "    .dataframe tbody tr th:only-of-type {\n",
       "        vertical-align: middle;\n",
       "    }\n",
       "\n",
       "    .dataframe tbody tr th {\n",
       "        vertical-align: top;\n",
       "    }\n",
       "\n",
       "    .dataframe thead th {\n",
       "        text-align: right;\n",
       "    }\n",
       "</style>\n",
       "<table border=\"1\" class=\"dataframe\">\n",
       "  <thead>\n",
       "    <tr style=\"text-align: right;\">\n",
       "      <th></th>\n",
       "      <th>Coedicients</th>\n",
       "    </tr>\n",
       "  </thead>\n",
       "  <tbody>\n",
       "    <tr>\n",
       "      <th>transaction_date</th>\n",
       "      <td>6.142954</td>\n",
       "    </tr>\n",
       "    <tr>\n",
       "      <th>house_age</th>\n",
       "      <td>-0.268205</td>\n",
       "    </tr>\n",
       "    <tr>\n",
       "      <th>distance_to_nearest_MRT_station</th>\n",
       "      <td>-0.004159</td>\n",
       "    </tr>\n",
       "    <tr>\n",
       "      <th>number_of_convenience_stores</th>\n",
       "      <td>1.117129</td>\n",
       "    </tr>\n",
       "    <tr>\n",
       "      <th>latitude</th>\n",
       "      <td>225.982451</td>\n",
       "    </tr>\n",
       "    <tr>\n",
       "      <th>longitude</th>\n",
       "      <td>-2.517430</td>\n",
       "    </tr>\n",
       "  </tbody>\n",
       "</table>\n",
       "</div>"
      ],
      "text/plain": [
       "                                 Coedicients\n",
       "transaction_date                    6.142954\n",
       "house_age                          -0.268205\n",
       "distance_to_nearest_MRT_station    -0.004159\n",
       "number_of_convenience_stores        1.117129\n",
       "latitude                          225.982451\n",
       "longitude                          -2.517430"
      ]
     },
     "execution_count": 47,
     "metadata": {},
     "output_type": "execute_result"
    }
   ],
   "source": [
    "# Visualizamos los coheficientes\n",
    "pd.DataFrame(model.coef_, X.columns, columns=['Coedicients'])"
   ]
  },
  {
   "cell_type": "markdown",
   "metadata": {},
   "source": [
    "- Un MSE de 69.51 indica que, en promedio, las predicciones del modelo difieren en aproximadamente 69.51 unidades al cuadrado del valor real del precio de la casa por unidad de área. Un MSE más bajo indica un mejor ajuste del modelo.\n",
    "\n",
    "- Un R2 de 0.5941 significa que aproximadamente el 59.41% de la variabilidad en el precio de la casa puede explicarse por las variables incluidas en el modelo. Un R2 más cercano a 1 indica un mejor ajuste del modelo.\n",
    "\n",
    "Estos resultados indican que el modelo de regresión lineal explica aproximadamente el 59.41% de la variabilidad en el precio de las casas, y que las predicciones del modelo tienen un error cuadrático medio de aproximadamente 69.51 unidades al cuadrado."
   ]
  },
  {
   "cell_type": "markdown",
   "metadata": {},
   "source": [
    "## Identificación de la Mejor Variable Predictora\n",
    "\n",
    "Este código analiza un conjunto de datos para identificar la variable independiente que mejor predice una variable objetivo utilizando el coeficiente de determinación (R2) en un modelo de regresión lineal. Para cada variable independiente, se entrena un modelo de regresión lineal sin esa variable y se calcula el R2. Al final, se identifica la variable con el R2 más alto como la mejor variable predictora.\n"
   ]
  },
  {
   "cell_type": "code",
   "execution_count": 56,
   "metadata": {},
   "outputs": [
    {
     "name": "stdout",
     "output_type": "stream",
     "text": [
      "La mejor variable predictora es 'distance_to_nearest_MRT_station' con un R2 de 0.8220677171860902\n"
     ]
    }
   ],
   "source": [
    "# Variable para almacenar los resultados de R2\n",
    "r2_scores = {}\n",
    "\n",
    "# Iterar sobre cada columna del DataFrame\n",
    "for column in df.columns:\n",
    "    if column != 'house_price':  # Excluir la columna de precios\n",
    "        X = df.drop(column, axis=1)\n",
    "        y = df[column]\n",
    "        X_train, X_test, y_train, y_test = train_test_split(X, y, test_size=0.2, random_state=42)\n",
    "        model = LinearRegression()\n",
    "        model.fit(X_train, y_train)\n",
    "        y_pred = model.predict(X_test)\n",
    "        r2 = metrics.r2_score(y_test, y_pred)\n",
    "        r2_scores[column] = r2\n",
    "\n",
    "# Encontrar la variable con el R2 más alto\n",
    "best_predictor = max(r2_scores, key=r2_scores.get)\n",
    "best_r2 = r2_scores[best_predictor]\n",
    "\n",
    "print(f\"La mejor variable predictora es '{best_predictor}' con un R2 de {best_r2}\")\n"
   ]
  },
  {
   "cell_type": "markdown",
   "metadata": {},
   "source": [
    "Según el análisis realizado, la variable \"distance_to_nearest_MRT_station\" (distancia a la estación de MRT más cercana) es la que mejor predice el precio de las casas en el conjunto de datos. El coeficiente de determinación (R2) asociado a esta variable es de 0.8220677171860902, lo cual sugiere que alrededor del 82.21% de la variabilidad en el precio de las casas puede ser explicada por esta variable. En términos simples, esto significa que la distancia a la estación de MRT más cercana tiene una fuerte influencia en el precio de las viviendas, y que el modelo de regresión lineal puede utilizar esta variable de forma efectiva para predecir los precios de las casas en el área estudiada."
   ]
  }
 ],
 "metadata": {
  "kernelspec": {
   "display_name": "pi2-env",
   "language": "python",
   "name": "pi2-env"
  },
  "language_info": {
   "codemirror_mode": {
    "name": "ipython",
    "version": 3
   },
   "file_extension": ".py",
   "mimetype": "text/x-python",
   "name": "python",
   "nbconvert_exporter": "python",
   "pygments_lexer": "ipython3",
   "version": "3.11.4"
  }
 },
 "nbformat": 4,
 "nbformat_minor": 2
}
